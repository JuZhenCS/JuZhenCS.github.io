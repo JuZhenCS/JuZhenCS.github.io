{
 "cells": [
  {
   "cell_type": "code",
   "execution_count": 317,
   "metadata": {},
   "outputs": [
    {
     "name": "stdout",
     "output_type": "stream",
     "text": [
      "1 1 A\n",
      "2 3 A\n",
      "3 2 T\n",
      "5 3 A\n",
      "['0', 'A', 'T', 'A', 'C', 'C', 'C', 'C', 'G', 'C']\n",
      "['A', '1', '1', '1', '1', '1', '1', '1', '1', '1']\n",
      "['A', '1', '1', '2', '2', '2', '2', '2', '2', '2']\n",
      "['T', '1', '2', '2', '2', '2', '2', '2', '2', '2']\n",
      "['T', '1', '2', '2', '2', '2', '2', '2', '2', '2']\n",
      "['A', '1', '2', '3', '3', '3', '3', '3', '3', '3']\n",
      "['A', '1', '2', '3', '3', '3', '3', '3', '3', '3']\n",
      "['A', '1', '2', '3', '3', '3', '3', '3', '3', '3']\n"
     ]
    }
   ],
   "source": [
    "# 测试动态规划算法，看和我理解的是否相同，以及是否可以优化算法时间复杂度。\n",
    "\n",
    "import random\n",
    "\n",
    "def dynamicProgramming(scoreMatrix, sequenceOne, sequenceTwo, m, n):  #得分矩阵算法\n",
    "    for i in range(1, n+1):\n",
    "        for j in range(1, m+1):\n",
    "            if(sequenceOne[j] == sequenceTwo[i]):\n",
    "                scoreMatrix[i][j] = scoreMatrix[i-1][j-1] + 1\n",
    "                if scoreMatrix[i][j] > scoreMatrix[i-1][j] and scoreMatrix[i][j] > scoreMatrix[i][j-1]:\n",
    "                    print(i, j, sequenceOne[j])\n",
    "            else:\n",
    "                scoreMatrix[i][j] = max(scoreMatrix[i-1][j], scoreMatrix[i][j-1])\n",
    "\n",
    "AlphaBeta = {1: \"A\", 2: \"C\", 3: \"G\", 4:\"T\"}  #gene sequence\n",
    "m = 9  #sequence1 length\n",
    "n = 7  #sequence2 length\n",
    "sequenceOne = [0] * (m+1)\n",
    "sequenceTwo = [0] * (n+1)\n",
    "for i in range(1, m+1):  #随机生成序列1,2\n",
    "    sequenceOne[i] = AlphaBeta[random.randint(1, 4)]\n",
    "for i in range(1, n+1):\n",
    "    sequenceTwo[i] = AlphaBeta[random.randint(1, 4)]\n",
    "scoreMatrix = [[0 for i in range(m+1)] for i in range(n+1)]  #打分矩阵\n",
    "dynamicProgramming(scoreMatrix, sequenceOne, sequenceTwo, m, n)\n",
    "\n",
    "scoreMatrix[0] = sequenceOne\n",
    "for i in range(n+1):  #打印分数矩阵\n",
    "    scoreMatrix[i][0] = sequenceTwo[i]\n",
    "    scoreMatrix[i] = list(str(a) for a in scoreMatrix[i])  #为了打印能对齐\n",
    "    print(scoreMatrix[i])\n",
    "\n",
    "#%reset"
   ]
  },
  {
   "cell_type": "code",
   "execution_count": 3,
   "metadata": {},
   "outputs": [
    {
     "name": "stdout",
     "output_type": "stream",
     "text": [
      "[1, 6, 17, 7, 9, 14, 8, 18, 2, 5]\n",
      "[1, 2, 5, 6, 7, 8, 9, 14, 17, 18]\n"
     ]
    }
   ],
   "source": [
    "#%reset\n",
    "import random\n",
    "\n",
    "sequence = random.sample(range(1, 20), 10)\n",
    "                \n",
    "print(sequence)\n",
    "print(sorted(sequence))"
   ]
  }
 ],
 "metadata": {
  "kernelspec": {
   "display_name": "Python 3",
   "language": "python",
   "name": "python3"
  },
  "language_info": {
   "codemirror_mode": {
    "name": "ipython",
    "version": 3
   },
   "file_extension": ".py",
   "mimetype": "text/x-python",
   "name": "python",
   "nbconvert_exporter": "python",
   "pygments_lexer": "ipython3",
   "version": "3.8.0"
  }
 },
 "nbformat": 4,
 "nbformat_minor": 4
}
